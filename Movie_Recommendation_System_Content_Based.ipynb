{
  "nbformat": 4,
  "nbformat_minor": 0,
  "metadata": {
    "colab": {
      "provenance": []
    },
    "kernelspec": {
      "name": "python3",
      "display_name": "Python 3"
    },
    "language_info": {
      "name": "python"
    }
  },
  "cells": [
    {
      "cell_type": "markdown",
      "source": [
        "# Content Based Movie Recommendation\n",
        "\n",
        "## What are we doing?\n",
        "\n",
        "Recommandation systems are used to help customer find content/data that they are more likely to consume. This project aims to build a movie recommendation system. The project uses TMBD 5000 dataset (https://www.kaggle.com/datasets/tmdb/tmdb-movie-metadata).\n",
        "\n",
        "## What type of recommendation systems are we building?\n",
        "\n",
        "We are building a content based recommendation system. These types of recommendation systems try to suggest your content similar to the content that you have previously consumed. For e.g. - If you have been watching a lot of thriller movies, these type of recommendation system will suggest you content which is similar to your watch history.\n",
        "\n",
        "## What are other type of recommendation system?\n",
        "\n",
        "* Collaborative Filtering: These types of recommendation systems use other people's consumption behavior to suggest other user content to watch. For e.g. if you've watched a lot of thriller movies recently, then these recommendation system will suggest you content of users who have also been watching thriller movies along with other genre. The hypothesis behind these systems is that people with similar taste in content have higher probability of consuming each others content.\n",
        "\n",
        "* Hybrid: These types of recommendation systems combine both content based and collaborative filtering techniques to recommend content.\n",
        "\n",
        "## What methodology are we using?\n",
        "\n",
        "* We are using movies overview, cast, director, genre information as source information.\n",
        "* The source information from multiple columns is combined into a single columns, `tags`. Think of tags as a column that contains overview of a movie, it's cast, director and genre.\n",
        "* Stemming is applied to the tags column.\n",
        "* A bag of words representation is created for all movies, using words from tag column from all movies.\n",
        "* After applying bag of words, each movie now gets its vector for tags.\n",
        "* A cosine similarity is then found between all movies and their bag of word representation for the tag columns.\n",
        "* Movies whose tags have high similarity with tags of other movies are expected to be more similar with respect to their content."
      ],
      "metadata": {
        "id": "VANJG6FwqQpU"
      }
    },
    {
      "cell_type": "code",
      "execution_count": 1,
      "metadata": {
        "id": "BXYlYHgdd1cE"
      },
      "outputs": [],
      "source": [
        "import numpy as np\n",
        "import pandas as pd"
      ]
    },
    {
      "cell_type": "markdown",
      "source": [
        "# Data Pre-processing"
      ],
      "metadata": {
        "id": "WBvGI28OgPdJ"
      }
    },
    {
      "cell_type": "code",
      "source": [
        "movies = pd.read_csv('data/tmdb_5000_movies.csv')\n",
        "credits = pd.read_csv('data/tmdb_5000_credits.csv')"
      ],
      "metadata": {
        "id": "mWxN34y-eg9O"
      },
      "execution_count": 7,
      "outputs": []
    },
    {
      "cell_type": "code",
      "source": [
        "movies = movies.merge(credits,on='title')"
      ],
      "metadata": {
        "id": "ZUo_FDsXgJLQ"
      },
      "execution_count": 8,
      "outputs": []
    },
    {
      "cell_type": "code",
      "source": [
        "def filter_required_columns(df, columns):\n",
        "    return df[columns]"
      ],
      "metadata": {
        "id": "9bOOk5SAdx3M"
      },
      "execution_count": 9,
      "outputs": []
    },
    {
      "cell_type": "code",
      "source": [
        "def handle_missing_data(movies):\n",
        "  movies.dropna(inplace=True)\n",
        "  return movies"
      ],
      "metadata": {
        "id": "jJJ6MCvze4nB"
      },
      "execution_count": 10,
      "outputs": []
    },
    {
      "cell_type": "code",
      "source": [
        "def remove_duplicate_data(movies):\n",
        "  movies.drop_duplicates(inplace=True)\n",
        "  return movies"
      ],
      "metadata": {
        "id": "gJOt7S5vfMpE"
      },
      "execution_count": 11,
      "outputs": []
    },
    {
      "cell_type": "code",
      "source": [
        "import ast\n",
        "\n",
        "def extract_names_from_object_string(obj):\n",
        "  l = []\n",
        "  for i in ast.literal_eval(obj):\n",
        "    l.append(i['name'])\n",
        "  return l"
      ],
      "metadata": {
        "id": "GJbCxJjLhaG8"
      },
      "execution_count": 12,
      "outputs": []
    },
    {
      "cell_type": "code",
      "source": [
        "def modify_genre(movies):\n",
        "  movies['genres'] = movies['genres'].apply(extract_names_from_object_string)"
      ],
      "metadata": {
        "id": "eNGFpO9KhpIC"
      },
      "execution_count": 13,
      "outputs": []
    },
    {
      "cell_type": "code",
      "source": [
        "def modify_keywords(movies):\n",
        "  movies['keywords'] = movies['keywords'].apply(extract_names_from_object_string)"
      ],
      "metadata": {
        "id": "DDUFggK8h07s"
      },
      "execution_count": 14,
      "outputs": []
    },
    {
      "cell_type": "code",
      "source": [
        "def extract_cast(obj):\n",
        "  l = []\n",
        "  for i in ast.literal_eval(obj):\n",
        "    if len(l) < 3:\n",
        "      l.append(i['name'])\n",
        "    else:\n",
        "      break\n",
        "  return l"
      ],
      "metadata": {
        "id": "uIbDjoLGh5Vg"
      },
      "execution_count": 15,
      "outputs": []
    },
    {
      "cell_type": "code",
      "source": [
        "def modify_cast(movies):\n",
        "  movies['cast'] = movies['cast'].apply(extract_cast)"
      ],
      "metadata": {
        "id": "srOMxl8aiNSI"
      },
      "execution_count": 16,
      "outputs": []
    },
    {
      "cell_type": "code",
      "source": [
        "def extract_director(obj):\n",
        "  l = []\n",
        "  for i in ast.literal_eval(obj):\n",
        "    if i['job'] == 'Director':\n",
        "      l.append(i['name'])\n",
        "      break\n",
        "  return l"
      ],
      "metadata": {
        "id": "SgAEWKaHiUtW"
      },
      "execution_count": 17,
      "outputs": []
    },
    {
      "cell_type": "code",
      "source": [
        "def modify_crew(movies):\n",
        "  movies['crew'] = movies['crew'].apply(extract_director)"
      ],
      "metadata": {
        "id": "DqDbP65liW56"
      },
      "execution_count": 18,
      "outputs": []
    },
    {
      "cell_type": "code",
      "source": [
        "def create_tag(movies):\n",
        "\n",
        "  movies['overview'] = movies['overview'].apply(lambda x:x.split())\n",
        "  movies['genres'] = movies['genres'].apply(lambda x:[i.replace(\" \",\"\") for i in x])\n",
        "  movies['keywords'] = movies['keywords'].apply(lambda x:[i.replace(\" \",\"\") for i in x])\n",
        "  movies['cast'] = movies['cast'].apply(lambda x:[i.replace(\" \",\"\") for i in x])\n",
        "  movies['crew'] = movies['crew'].apply(lambda x:[i.replace(\" \",\"\") for i in x])\n",
        "\n",
        "  movies['tags'] = movies['overview'] + movies['genres'] + movies['keywords'] + movies['cast'] + movies['crew']\n",
        "  movies.drop(columns=['overview','genres','keywords','cast','crew'],inplace=True)\n",
        "  movies['tags'] = movies['tags'].apply(lambda x:\" \".join(x))\n",
        "  movies['tags'] = movies['tags'].apply(lambda x:x.lower())\n",
        "  return movies\n"
      ],
      "metadata": {
        "id": "p7-NgLb4i1zs"
      },
      "execution_count": 19,
      "outputs": []
    },
    {
      "cell_type": "code",
      "source": [
        "def pre_process(movies):\n",
        "\n",
        "  # column list\n",
        "  column = ['genres', 'id', 'keywords', 'overview', 'title', 'cast', 'crew']\n",
        "\n",
        "  movies = filter_required_columns(movies, column)\n",
        "  movies = handle_missing_data(movies)\n",
        "  movies = remove_duplicate_data(movies)\n",
        "\n",
        "  modify_genre(movies)\n",
        "  modify_keywords(movies)\n",
        "  modify_cast(movies)\n",
        "  modify_crew(movies)\n",
        "\n",
        "  movies = create_tag(movies)\n",
        "\n",
        "  return movies"
      ],
      "metadata": {
        "id": "9cF2NJORgM-Z"
      },
      "execution_count": 20,
      "outputs": []
    },
    {
      "cell_type": "code",
      "source": [
        "movies = pre_process(movies)"
      ],
      "metadata": {
        "id": "F_zKWBW07Fga",
        "colab": {
          "base_uri": "https://localhost:8080/"
        },
        "outputId": "3881469e-2768-4ba2-eee9-dee4c6a155ce"
      },
      "execution_count": 21,
      "outputs": [
        {
          "output_type": "stream",
          "name": "stderr",
          "text": [
            "<ipython-input-10-d50d65b519d1>:2: SettingWithCopyWarning: \n",
            "A value is trying to be set on a copy of a slice from a DataFrame\n",
            "\n",
            "See the caveats in the documentation: https://pandas.pydata.org/pandas-docs/stable/user_guide/indexing.html#returning-a-view-versus-a-copy\n",
            "  movies.dropna(inplace=True)\n",
            "<ipython-input-13-489b4466db9c>:2: SettingWithCopyWarning: \n",
            "A value is trying to be set on a copy of a slice from a DataFrame.\n",
            "Try using .loc[row_indexer,col_indexer] = value instead\n",
            "\n",
            "See the caveats in the documentation: https://pandas.pydata.org/pandas-docs/stable/user_guide/indexing.html#returning-a-view-versus-a-copy\n",
            "  movies['genres'] = movies['genres'].apply(extract_names_from_object_string)\n",
            "<ipython-input-19-1c04c9d9ee27>:3: SettingWithCopyWarning: \n",
            "A value is trying to be set on a copy of a slice from a DataFrame.\n",
            "Try using .loc[row_indexer,col_indexer] = value instead\n",
            "\n",
            "See the caveats in the documentation: https://pandas.pydata.org/pandas-docs/stable/user_guide/indexing.html#returning-a-view-versus-a-copy\n",
            "  movies['overview'] = movies['overview'].apply(lambda x:x.split())\n",
            "<ipython-input-19-1c04c9d9ee27>:4: SettingWithCopyWarning: \n",
            "A value is trying to be set on a copy of a slice from a DataFrame.\n",
            "Try using .loc[row_indexer,col_indexer] = value instead\n",
            "\n",
            "See the caveats in the documentation: https://pandas.pydata.org/pandas-docs/stable/user_guide/indexing.html#returning-a-view-versus-a-copy\n",
            "  movies['genres'] = movies['genres'].apply(lambda x:[i.replace(\" \",\"\") for i in x])\n",
            "<ipython-input-19-1c04c9d9ee27>:5: SettingWithCopyWarning: \n",
            "A value is trying to be set on a copy of a slice from a DataFrame.\n",
            "Try using .loc[row_indexer,col_indexer] = value instead\n",
            "\n",
            "See the caveats in the documentation: https://pandas.pydata.org/pandas-docs/stable/user_guide/indexing.html#returning-a-view-versus-a-copy\n",
            "  movies['keywords'] = movies['keywords'].apply(lambda x:[i.replace(\" \",\"\") for i in x])\n",
            "<ipython-input-19-1c04c9d9ee27>:6: SettingWithCopyWarning: \n",
            "A value is trying to be set on a copy of a slice from a DataFrame.\n",
            "Try using .loc[row_indexer,col_indexer] = value instead\n",
            "\n",
            "See the caveats in the documentation: https://pandas.pydata.org/pandas-docs/stable/user_guide/indexing.html#returning-a-view-versus-a-copy\n",
            "  movies['cast'] = movies['cast'].apply(lambda x:[i.replace(\" \",\"\") for i in x])\n",
            "<ipython-input-19-1c04c9d9ee27>:7: SettingWithCopyWarning: \n",
            "A value is trying to be set on a copy of a slice from a DataFrame.\n",
            "Try using .loc[row_indexer,col_indexer] = value instead\n",
            "\n",
            "See the caveats in the documentation: https://pandas.pydata.org/pandas-docs/stable/user_guide/indexing.html#returning-a-view-versus-a-copy\n",
            "  movies['crew'] = movies['crew'].apply(lambda x:[i.replace(\" \",\"\") for i in x])\n",
            "<ipython-input-19-1c04c9d9ee27>:9: SettingWithCopyWarning: \n",
            "A value is trying to be set on a copy of a slice from a DataFrame.\n",
            "Try using .loc[row_indexer,col_indexer] = value instead\n",
            "\n",
            "See the caveats in the documentation: https://pandas.pydata.org/pandas-docs/stable/user_guide/indexing.html#returning-a-view-versus-a-copy\n",
            "  movies['tags'] = movies['overview'] + movies['genres'] + movies['keywords'] + movies['cast'] + movies['crew']\n",
            "<ipython-input-19-1c04c9d9ee27>:10: SettingWithCopyWarning: \n",
            "A value is trying to be set on a copy of a slice from a DataFrame\n",
            "\n",
            "See the caveats in the documentation: https://pandas.pydata.org/pandas-docs/stable/user_guide/indexing.html#returning-a-view-versus-a-copy\n",
            "  movies.drop(columns=['overview','genres','keywords','cast','crew'],inplace=True)\n",
            "<ipython-input-19-1c04c9d9ee27>:11: SettingWithCopyWarning: \n",
            "A value is trying to be set on a copy of a slice from a DataFrame.\n",
            "Try using .loc[row_indexer,col_indexer] = value instead\n",
            "\n",
            "See the caveats in the documentation: https://pandas.pydata.org/pandas-docs/stable/user_guide/indexing.html#returning-a-view-versus-a-copy\n",
            "  movies['tags'] = movies['tags'].apply(lambda x:\" \".join(x))\n",
            "<ipython-input-19-1c04c9d9ee27>:12: SettingWithCopyWarning: \n",
            "A value is trying to be set on a copy of a slice from a DataFrame.\n",
            "Try using .loc[row_indexer,col_indexer] = value instead\n",
            "\n",
            "See the caveats in the documentation: https://pandas.pydata.org/pandas-docs/stable/user_guide/indexing.html#returning-a-view-versus-a-copy\n",
            "  movies['tags'] = movies['tags'].apply(lambda x:x.lower())\n"
          ]
        }
      ]
    },
    {
      "cell_type": "markdown",
      "source": [
        "# Generate Similarity"
      ],
      "metadata": {
        "id": "lAjHF2P1kH_X"
      }
    },
    {
      "cell_type": "code",
      "source": [
        "import nltk\n",
        "from nltk.stem.porter import PorterStemmer\n",
        "from nltk.corpus import stopwords\n",
        "from sklearn.feature_extraction.text import CountVectorizer\n",
        "from sklearn.metrics.pairwise import cosine_similarity"
      ],
      "metadata": {
        "id": "b1k-3blMkKVE"
      },
      "execution_count": 22,
      "outputs": []
    },
    {
      "cell_type": "code",
      "source": [
        "def apply_stemming(text):\n",
        "  ps = PorterStemmer()\n",
        "  y = []\n",
        "  for i in text.split():\n",
        "    y.append(ps.stem(i))\n",
        "  return \" \".join(y)"
      ],
      "metadata": {
        "id": "HpjyUKyokVO_"
      },
      "execution_count": 23,
      "outputs": []
    },
    {
      "cell_type": "code",
      "source": [
        "def stem_tags(movies):\n",
        "  movies['tags'] = movies['tags'].apply(apply_stemming)"
      ],
      "metadata": {
        "id": "hhP7Lh_Emgcl"
      },
      "execution_count": 24,
      "outputs": []
    },
    {
      "cell_type": "code",
      "source": [
        "def apply_count_vectorizer_to_tags(movies):\n",
        "  cv = CountVectorizer(max_features=5000,stop_words='english')\n",
        "  vectors = cv.fit_transform(movies['tags']).toarray()\n",
        "  return vectors"
      ],
      "metadata": {
        "id": "sqGdHQ-9nXok"
      },
      "execution_count": 25,
      "outputs": []
    },
    {
      "cell_type": "code",
      "source": [
        "from itertools import count\n",
        "def prepare_data(movies):\n",
        "\n",
        "  stem_tags(movies)\n",
        "  count_vector = apply_count_vectorizer_to_tags(movies)\n",
        "  similarity = cosine_similarity(count_vector)\n",
        "\n",
        "  return movies, count_vector, similarity"
      ],
      "metadata": {
        "id": "TlfiSBiCmj18"
      },
      "execution_count": 26,
      "outputs": []
    },
    {
      "cell_type": "code",
      "source": [
        "movies, count_vector, similarity = prepare_data(movies)"
      ],
      "metadata": {
        "id": "G_kHK0EmnjjD"
      },
      "execution_count": 27,
      "outputs": []
    },
    {
      "cell_type": "markdown",
      "source": [
        "# Manage Models"
      ],
      "metadata": {
        "id": "8P8x-vSN6ykB"
      }
    },
    {
      "cell_type": "code",
      "source": [
        "def save_model(movies, count_vector, similarity):\n",
        "  movies.to_csv('data/model/movies.csv')\n",
        "  np.save('data/model/count_vector.npy', count_vector)\n",
        "  np.save('data/model/similarity.npy', similarity)"
      ],
      "metadata": {
        "id": "b2E0XJ3R5Pwq"
      },
      "execution_count": 31,
      "outputs": []
    },
    {
      "cell_type": "code",
      "source": [
        "def load_model():\n",
        "  movies = pd.read_csv('data/model/movies.csv')\n",
        "  count_vector = np.load('data/model/count_vector.npy', allow_pickle=True)\n",
        "  similarity = np.load('data/model/similarity.npy', allow_pickle=True)\n",
        "  return movies, count_vector, similarity"
      ],
      "metadata": {
        "id": "Cqp5EXz86PfH"
      },
      "execution_count": 32,
      "outputs": []
    },
    {
      "cell_type": "code",
      "source": [
        "save_model(movies, count_vector, similarity)"
      ],
      "metadata": {
        "id": "HiG4jNgO6V6x"
      },
      "execution_count": 34,
      "outputs": []
    },
    {
      "cell_type": "code",
      "source": [
        "l_movies, l_count_vector, l_similarity = load_model()"
      ],
      "metadata": {
        "id": "sYl-MGri6fE2"
      },
      "execution_count": 35,
      "outputs": []
    },
    {
      "cell_type": "markdown",
      "source": [
        "## Recommendation Generation"
      ],
      "metadata": {
        "id": "-WOshT9KpfXN"
      }
    },
    {
      "cell_type": "code",
      "source": [
        "def recommend(movie_name):\n",
        "  movie_index = l_movies[l_movies['title'] == movie_name].index[0]\n",
        "  distances = l_similarity[movie_index]\n",
        "  movies_list = sorted(list(enumerate(distances)),reverse=True,key=lambda x:x[1])[1:6]\n",
        "\n",
        "  for i in movies_list:\n",
        "    print(l_movies.iloc[i[0]].title)"
      ],
      "metadata": {
        "id": "pDbxWza4oZrg"
      },
      "execution_count": 39,
      "outputs": []
    },
    {
      "cell_type": "code",
      "source": [
        "recommend('Avatar')"
      ],
      "metadata": {
        "colab": {
          "base_uri": "https://localhost:8080/"
        },
        "id": "RRK2liJVpx7T",
        "outputId": "7206d02e-decb-48e0-e374-42c08822fe10"
      },
      "execution_count": 40,
      "outputs": [
        {
          "output_type": "stream",
          "name": "stdout",
          "text": [
            "Aliens vs Predator: Requiem\n",
            "Aliens\n",
            "Falcon Rising\n",
            "Independence Day\n",
            "Titan A.E.\n"
          ]
        }
      ]
    },
    {
      "cell_type": "code",
      "source": [],
      "metadata": {
        "id": "g-o0CqqZ7KRg"
      },
      "execution_count": null,
      "outputs": []
    }
  ]
}